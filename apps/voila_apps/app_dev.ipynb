{
 "cells": [
  {
   "cell_type": "markdown",
   "metadata": {},
   "source": [
    "# This notebook is used for development"
   ]
  },
  {
   "cell_type": "code",
   "execution_count": 5,
   "metadata": {
    "scrolled": false
   },
   "outputs": [],
   "source": [
    "from importlib import reload\n",
    "import app"
   ]
  },
  {
   "cell_type": "code",
   "execution_count": null,
   "metadata": {},
   "outputs": [],
   "source": [
    "reload(app)\n",
    "app.run_all_code_below_button()\n",
    "app.main()\n",
    "app.run_all_code_below_button()"
   ]
  },
  {
   "cell_type": "code",
   "execution_count": 6,
   "metadata": {},
   "outputs": [],
   "source": [
    "schema = app.stack_overflow.read_schema()\n",
    "results = app.stack_overflow.read_results()"
   ]
  },
  {
   "cell_type": "code",
   "execution_count": 10,
   "metadata": {
    "scrolled": false
   },
   "outputs": [
    {
     "data": {
      "application/javascript": [
       "IPython.notebook.execute_cells_below()"
      ],
      "text/plain": [
       "<IPython.core.display.Javascript object>"
      ]
     },
     "metadata": {},
     "output_type": "display_data"
    },
    {
     "data": {
      "application/vnd.jupyter.widget-view+json": {
       "model_id": "fb1dac282ea543458281272a4109297d",
       "version_major": 2,
       "version_minor": 0
      },
      "text/plain": [
       "Button(description='Re-run code', style=ButtonStyle())"
      ]
     },
     "metadata": {},
     "output_type": "display_data"
    },
    {
     "data": {
      "text/markdown": [
       "\n",
       "## Stack Overflow 2019\n",
       "\n",
       "You will be analyzing and providing insights from the Stack Overflow 2019 survey\n",
       "\n",
       "<a href=\"https://insights.stackoverflow.com/survey/2019\" target=\"_blank\">\n",
       "<img src=\"https://github.com/MarcSkovMadsen/awesome-analytics-apps/blob/master/assets/images/stack_overflow_survey_2019.png?raw=true\"style=\"width:100%;\">\n",
       "</a>\n",
       "\n",
       "Results: [https://insights.stackoverflow.com/survey/2019](https://insights.stackoverflow.com/survey)\n",
       "\n",
       "Data: [https://insights.stackoverflow.com/survey](https://insights.stackoverflow.com/survey)\n"
      ],
      "text/plain": [
       "<IPython.core.display.Markdown object>"
      ]
     },
     "metadata": {},
     "output_type": "display_data"
    },
    {
     "data": {
      "text/markdown": [
       "# Stack Overflow Questions 2019\n",
       "\n",
       "\n"
      ],
      "text/plain": [
       "<IPython.core.display.Markdown object>"
      ]
     },
     "metadata": {},
     "output_type": "display_data"
    },
    {
     "data": {
      "application/vnd.jupyter.widget-view+json": {
       "model_id": "3594aa771fde48bc99c2bf3e7e9da4c0",
       "version_major": 2,
       "version_minor": 0
      },
      "text/plain": [
       "interactive(children=(SelectMultiple(description='Select questions', options=('Age', 'Age1stCode', 'BetterLife…"
      ]
     },
     "metadata": {},
     "output_type": "display_data"
    },
    {
     "data": {
      "text/markdown": [
       "# Stack Overflow Results 2019"
      ],
      "text/plain": [
       "<IPython.core.display.Markdown object>"
      ]
     },
     "metadata": {},
     "output_type": "display_data"
    },
    {
     "data": {
      "application/vnd.jupyter.widget-view+json": {
       "model_id": "e88f95d630c2417792c0ab8da1ea97a7",
       "version_major": 2,
       "version_minor": 0
      },
      "text/plain": [
       "interactive(children=(Dropdown(description='Select # Answers to show', options=(10, 50, 500, 5000, 88883), val…"
      ]
     },
     "metadata": {},
     "output_type": "display_data"
    },
    {
     "data": {
      "application/vnd.jupyter.widget-view+json": {
       "model_id": "5cdf5535324742668d68b53607aa12f1",
       "version_major": 2,
       "version_minor": 0
      },
      "text/plain": [
       "Output()"
      ]
     },
     "metadata": {},
     "output_type": "display_data"
    },
    {
     "data": {
      "application/vnd.jupyter.widget-view+json": {
       "model_id": "51df9a8a99094a23a4b371f44dd3e01b",
       "version_major": 2,
       "version_minor": 0
      },
      "text/plain": [
       "Button(description='Re-run code', style=ButtonStyle())"
      ]
     },
     "metadata": {},
     "output_type": "display_data"
    }
   ],
   "source": [
    "reload(app)\n",
    "app.run_all_code_below_button()\n",
    "app.configure_pandas()\n",
    "app.stack_overflow_component(schema, results)\n",
    "app.run_all_code_below_button()"
   ]
  }
 ],
 "metadata": {
  "kernelspec": {
   "display_name": "Python 3",
   "language": "python",
   "name": "python3"
  },
  "language_info": {
   "codemirror_mode": {
    "name": "ipython",
    "version": 3
   },
   "file_extension": ".py",
   "mimetype": "text/x-python",
   "name": "python",
   "nbconvert_exporter": "python",
   "pygments_lexer": "ipython3",
   "version": "3.7.2"
  }
 },
 "nbformat": 4,
 "nbformat_minor": 2
}
